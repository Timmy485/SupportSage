{
 "cells": [
  {
   "cell_type": "code",
   "execution_count": 10,
   "metadata": {},
   "outputs": [],
   "source": [
    "from llama_index.readers.web import FireCrawlWebReader\n",
    "from dotenv import load_dotenv\n",
    "import os, pymongo, pprint\n",
    "from llama_index.core import SimpleDirectoryReader, VectorStoreIndex, StorageContext\n",
    "from llama_index.core.settings import Settings\n",
    "from llama_index.core.retrievers import VectorIndexRetriever\n",
    "from llama_index.core.query_engine import RetrieverQueryEngine\n",
    "from llama_index.embeddings.openai import OpenAIEmbedding\n",
    "from llama_index.llms.openai import OpenAI\n",
    "from llama_index.vector_stores.mongodb import MongoDBAtlasVectorSearch\n",
    "from llama_index.postprocessor.cohere_rerank import CohereRerank"
   ]
  },
  {
   "cell_type": "code",
   "execution_count": 11,
   "metadata": {},
   "outputs": [],
   "source": [
    "load_dotenv()\n",
    "FIRECRAWL_API = os.environ.get('FIRECRAWL_API')\n",
    "ATLAS_CONNECTION_STRING = os.environ.get('ATLAS_URI')\n",
    "COHERE_API_KEY = os.environ.get(\"COHERE_API_KEY\")\n",
    "os.environ[\"OPENAI_API_KEY\"] = os.environ.get(\"OPENAI_KEY\")"
   ]
  },
  {
   "cell_type": "code",
   "execution_count": null,
   "metadata": {},
   "outputs": [],
   "source": [
    "filename_fn = lambda filename: {\"file_name\": filename}\n",
    "# automatically sets the metadata of each document according to filename_fn\n",
    "documents = SimpleDirectoryReader(\n",
    "    input_dir=\"data/smart_solutions\", file_metadata=filename_fn\n",
    ").load_data()"
   ]
  },
  {
   "cell_type": "markdown",
   "metadata": {},
   "source": [
    "## Create Vector Embeddings"
   ]
  },
  {
   "cell_type": "code",
   "execution_count": null,
   "metadata": {},
   "outputs": [],
   "source": [
    "\"\"\"\n",
    "base = top_k 5\n",
    "v2 = 512 chunk\n",
    "v3 = 100 chunk *\n",
    "v4 = 100 chunk, 50 overlap **\n",
    "v5 = 100 chunk, 100 overlap, top_k=5 [higher results, lower groudedness, 0.39, 0.64, 0.8]\n",
    "v6 = v5 + top_k 20\n",
    "v7 = v5 + top_k 10\n",
    "v7 = v5 + refine\n",
    "v8 = 100 chunk, 100 overlap, cohere rerank, top_n=3, top_k = 20\n",
    "v9 = top_n=3, cohere, top_k = 20\n",
    "v10 = top_n=3, cohere, top_k = 5\n",
    "V11 = CUSTOM PROMPT + V 10\n",
    "\"\"\""
   ]
  },
  {
   "cell_type": "code",
   "execution_count": 13,
   "metadata": {},
   "outputs": [],
   "source": [
    "\n",
    "# Settings.llm = OpenAI(model=\"gpt-4-turbo\")\n",
    "Settings.embed_model = OpenAIEmbedding(model=\"text-embedding-ada-002\")\n",
    "Settings.chunk_size = 100\n",
    "Settings.chunk_overlap = 100\n",
    "top_k = 5\n",
    "top_n = 3\n",
    "\n",
    "db_name = \"smart_solutions_db\"\n",
    "collection_name = \"policies[100_chunk, 100 overlap]\" \n",
    "app_name = \"SmartSolutions_App_v11\""
   ]
  },
  {
   "cell_type": "code",
   "execution_count": null,
   "metadata": {},
   "outputs": [],
   "source": [
    "# To ensure we are working with a fresh collection\n",
    "# delete any existing records in the collection\n",
    "# collection.delete_many({})"
   ]
  },
  {
   "cell_type": "code",
   "execution_count": null,
   "metadata": {},
   "outputs": [],
   "source": [
    "# Connect to your Atlas cluster\n",
    "mongodb_client = pymongo.MongoClient(ATLAS_CONNECTION_STRING)\n",
    "\n",
    "# Instantiate the vector store\n",
    "atlas_vector_search = MongoDBAtlasVectorSearch(\n",
    "    mongodb_client,\n",
    "    db_name = db_name,\n",
    "    collection_name = collection_name,\n",
    "    index_name = \"vector_index\"\n",
    ")\n",
    " \n",
    "vector_store_context = StorageContext.from_defaults(vector_store=atlas_vector_search)"
   ]
  },
  {
   "cell_type": "code",
   "execution_count": null,
   "metadata": {},
   "outputs": [],
   "source": [
    "vector_store_index = VectorStoreIndex.from_documents(\n",
    "   documents, storage_context=vector_store_context, show_progress=True\n",
    ")"
   ]
  },
  {
   "cell_type": "code",
   "execution_count": null,
   "metadata": {},
   "outputs": [],
   "source": [
    "# Instantiate Atlas Vector Search as a retriever\n",
    "vector_store_retriever = VectorIndexRetriever(index=vector_store_index, similarity_top_k=top_k)\n",
    "# Pass the retriever into the query engine\n",
    "query_engine = RetrieverQueryEngine(retriever=vector_store_retriever)"
   ]
  },
  {
   "cell_type": "markdown",
   "metadata": {},
   "source": [
    "## Load Embeddings"
   ]
  },
  {
   "cell_type": "code",
   "execution_count": null,
   "metadata": {},
   "outputs": [],
   "source": [
    "# # Settings.llm = OpenAI(model=\"gpt-4-turbo\")\n",
    "\n",
    "# # Connect to your Atlas cluster\n",
    "# mongodb_client = pymongo.MongoClient(ATLAS_CONNECTION_STRING)\n",
    "\n",
    "# # Instantiate the vector store\n",
    "# atlas_vector_search = MongoDBAtlasVectorSearch(\n",
    "#     mongodb_client,\n",
    "#     db_name = db_name,\n",
    "#     collection_name = collection_name,\n",
    "#     index_name = \"vector_index\"\n",
    "# )\n",
    "\n",
    "# # Create VectorStoreIndex from the vector store\n",
    "# vector_store_index = VectorStoreIndex.from_vector_store(atlas_vector_search)\n",
    "\n",
    "# # Instantiate Atlas Vector Search as a retriever\n",
    "# vector_store_retriever = VectorIndexRetriever(index=vector_store_index, similarity_top_k=top_k)\n",
    "# # Pass the retriever into the query engine\n",
    "# query_engine = RetrieverQueryEngine(retriever=vector_store_retriever)"
   ]
  },
  {
   "cell_type": "code",
   "execution_count": 19,
   "metadata": {},
   "outputs": [],
   "source": [
    "# Settings.llm = OpenAI(model=\"gpt-4-turbo\")\n",
    "\n",
    "# Connect to your Atlas cluster\n",
    "mongodb_client = pymongo.MongoClient(ATLAS_CONNECTION_STRING)\n",
    "\n",
    "# Instantiate the vector store\n",
    "atlas_vector_search = MongoDBAtlasVectorSearch(\n",
    "    mongodb_client,\n",
    "    db_name = db_name,\n",
    "    collection_name = collection_name,\n",
    "    index_name = \"vector_index\"\n",
    ")\n",
    "\n",
    "# Create VectorStoreIndex from the vector store\n",
    "vector_store_index = VectorStoreIndex.from_vector_store(atlas_vector_search)\n",
    "\n",
    "\n",
    "cohere_rerank = CohereRerank(api_key=COHERE_API_KEY, top_n=top_n)\n",
    "# Create a query engine with a default retriever\n",
    "query_engine = vector_store_index.as_query_engine(\n",
    "        similarity_top_k=top_k, node_postprocessors=[cohere_rerank]\n",
    "    )"
   ]
  },
  {
   "cell_type": "code",
   "execution_count": null,
   "metadata": {},
   "outputs": [],
   "source": [
    "# from IPython.display import Markdown, display\n",
    "# # define prompt viewing function\n",
    "# def display_prompt_dict(prompts_dict):\n",
    "#     for k, p in prompts_dict.items():\n",
    "#         text_md = f\"**Prompt Key**: {k}<br>\" f\"**Text:** <br>\"\n",
    "#         display(Markdown(text_md))\n",
    "#         print(p.get_template())\n",
    "#         display(Markdown(\"<br><br>\"))\n",
    "\n",
    "# prompts_dict = query_engine.get_prompts()\n",
    "# display_prompt_dict(prompts_dict)"
   ]
  },
  {
   "cell_type": "code",
   "execution_count": 23,
   "metadata": {},
   "outputs": [],
   "source": [
    "# from llama_index.core import PromptTemplate\n",
    "\n",
    "# # Define your custom prompt\n",
    "# custom_prompt = (\n",
    "#     \"As an expert in customer service relations, it's important to recognize and address the tone of the received query. start by acknowledging their feelings and apologize for any inconvenience they may have experienced. Then, proceed to curate the response in a way that soothes and resolves their concerns.\"\n",
    "#     \"Context information is below.\\n\"\n",
    "#     \"---------------------\\n\"\n",
    "#     \"{context_str}\\n\"\n",
    "#     \"---------------------\\n\"\n",
    "#     \"Given the context information and not prior knowledge, \"\n",
    "#     \"answer the query.\\n\"\n",
    "#     \"Query: {query_str}\\n\"\n",
    "    \n",
    "# )\n",
    "\n",
    "# # Create a PromptTemplate from your custom prompt\n",
    "# custom_prompt_template = PromptTemplate(custom_prompt)\n",
    "\n",
    "# # Update the query engine with the new prompt\n",
    "# query_engine.update_prompts({\"text_qa_template\": custom_prompt_template})"
   ]
  },
  {
   "cell_type": "code",
   "execution_count": 24,
   "metadata": {},
   "outputs": [
    {
     "data": {
      "text/plain": [
       "'If you are dissatisfied with the service and wish to get your money back, you can cancel the service as per the terms outlined in the service agreement. Depending on the service package and agreed terms, you may be eligible for a prorated refund based on the unused portion of the service term. Ensure that any outstanding fees or charges up to the cancellation date are settled in full to facilitate the refund process.'"
      ]
     },
     "execution_count": 24,
     "metadata": {},
     "output_type": "execute_result"
    }
   ],
   "source": [
    "query_engine.query(\"I hate the service! How do i get my money back?\").response"
   ]
  },
  {
   "cell_type": "code",
   "execution_count": null,
   "metadata": {},
   "outputs": [],
   "source": [
    "from trulens_eval import Tru\n",
    "tru = Tru()"
   ]
  },
  {
   "cell_type": "code",
   "execution_count": null,
   "metadata": {},
   "outputs": [],
   "source": [
    "import numpy as np\n",
    "\n",
    "# Initialize provider class\n",
    "from trulens_eval.feedback.provider.openai import OpenAI\n",
    "openai = OpenAI()\n",
    "\n",
    "# select context to be used in feedback. the location of context is app specific.\n",
    "from trulens_eval.app import App\n",
    "context = App.select_context(query_engine)\n",
    "\n",
    "# imports for feedback\n",
    "from trulens_eval import Feedback\n",
    "\n",
    "# Define a groundedness feedback function\n",
    "from trulens_eval.feedback import Groundedness\n",
    "grounded = Groundedness(groundedness_provider=OpenAI())\n",
    "f_groundedness = (\n",
    "    Feedback(grounded.groundedness_measure_with_cot_reasons)\n",
    "    .on(context.collect()) # collect context chunks into a list\n",
    "    .on_output()\n",
    "    .aggregate(grounded.grounded_statements_aggregator)\n",
    ")\n",
    "\n",
    "# Question/answer relevance between overall question and answer.\n",
    "f_qa_relevance = Feedback(openai.relevance).on_input_output()\n",
    "\n",
    "# Question/statement relevance between question and each context chunk.\n",
    "f_qs_relevance = (\n",
    "    Feedback(openai.qs_relevance)\n",
    "    .on_input()\n",
    "    .on(context)\n",
    "    .aggregate(np.mean)\n",
    ")"
   ]
  },
  {
   "cell_type": "code",
   "execution_count": null,
   "metadata": {},
   "outputs": [],
   "source": [
    "from trulens_eval import TruLlama\n",
    "tru_query_engine_recorder = TruLlama(query_engine,\n",
    "    app_id=app_name,\n",
    "    feedbacks=[f_groundedness, f_qa_relevance, f_qs_relevance])"
   ]
  },
  {
   "cell_type": "code",
   "execution_count": null,
   "metadata": {},
   "outputs": [],
   "source": [
    "queries = [\n",
    "    \"I'm interested in learning more about the services offered by SmartSolutions Virtual Assistant Services. Could you provide me with more information?\",\n",
    "    \"I'm excited to explore the possibility of working with SmartSolutions Virtual Assistant Services! Can you please send me the pricing details and package options for social media management services?\",\n",
    "    \"I need to modify my current service plan ASAP. Your lack of flexibility is causing major inconvenience. Can you please guide me through the process?\",\n",
    "    \"I need assistance with setting up email marketing campaigns for my business. Can you help me get started?\",\n",
    "    \"I'm glad to hear about your virtual assistant services! Are virtual assistants available to assist with data entry tasks? I have a project that requires immediate attention.\",\n",
    "    \"I'm looking for a customized service package to meet my specific business needs. Can I request a custom quote?\",\n",
    "    \"How can I trust you with my sensitive data? Your lack of transparency about security measures is concerning. How do you ensure the security of client data and information?\",\n",
    "    \"I'm experiencing issues with my website and need assistance with maintenance tasks. Can you help troubleshoot?\",\n",
    "    \"I appreciate your prompt assistance! What is the typical turnaround time for completing research tasks? I have an urgent project that needs to be completed.\",\n",
    "    \"I'm excited to enhance my online presence! Can you recommend the best social media platforms for a small business in the fashion industry?\",\n",
    "    \"What qualifications and experience do your virtual assistants have? I want to ensure I'm working with skilled professionals.\",\n",
    "    \"I'm looking forward to streamlining my marketing efforts! I need help integrating my email marketing platform with my CRM system. Can you assist with this?\",\n",
    "    \"I'm eager to get started with your services! What is the process for onboarding new clients and getting started?\",\n",
    "    \"I need assistance with analyzing social media analytics and performance metrics. Can you provide support?\",\n",
    "    \"Your lack of 24/7 support is unacceptable! Is customer support available during weekends or holidays? I may need assistance outside of regular business hours.\",\n",
    "    \"I'm considering optimizing my service plan! What is the process for upgrading/downgrading my current service plan?\",\n",
    "    \"I'm unsure which service package is best for my business. Can you provide guidance on selecting the right one?\",\n",
    "    \"I'm eager to see examples of your work! Do you have any examples of previous work or case studies in the healthcare industry?\",\n",
    "    \"I want to ensure a smooth payment process! What payment methods do you accept, and what are your billing procedures?\",\n",
    "    \"I'm interested in exploring more options! Do you offer any additional services or add-ons beyond the standard packages?\"\n",
    "]\n",
    "\n",
    "with tru_query_engine_recorder as recording:\n",
    "    for test in queries:\n",
    "        query_engine.query(test)"
   ]
  },
  {
   "cell_type": "code",
   "execution_count": null,
   "metadata": {},
   "outputs": [],
   "source": [
    "records, feedback = tru.get_records_and_feedback(app_ids=[app_name])\n",
    "records.head()"
   ]
  },
  {
   "cell_type": "code",
   "execution_count": null,
   "metadata": {},
   "outputs": [],
   "source": [
    "tru.get_leaderboard(app_ids=[app_name])"
   ]
  },
  {
   "cell_type": "code",
   "execution_count": null,
   "metadata": {},
   "outputs": [],
   "source": [
    "# tru.run_dashboard()"
   ]
  }
 ],
 "metadata": {
  "kernelspec": {
   "display_name": ".venv",
   "language": "python",
   "name": "python3"
  },
  "language_info": {
   "codemirror_mode": {
    "name": "ipython",
    "version": 3
   },
   "file_extension": ".py",
   "mimetype": "text/x-python",
   "name": "python",
   "nbconvert_exporter": "python",
   "pygments_lexer": "ipython3",
   "version": "3.11.3"
  }
 },
 "nbformat": 4,
 "nbformat_minor": 2
}
