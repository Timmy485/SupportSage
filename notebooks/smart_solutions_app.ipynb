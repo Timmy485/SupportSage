{
 "cells": [
  {
   "cell_type": "code",
   "execution_count": 2,
   "metadata": {},
   "outputs": [],
   "source": [
    "from llama_index.readers.web import FireCrawlWebReader\n",
    "from dotenv import load_dotenv\n",
    "import os, pymongo, pprint\n",
    "from llama_index.core import SimpleDirectoryReader, VectorStoreIndex, StorageContext\n",
    "from llama_index.core.settings import Settings\n",
    "from llama_index.core.retrievers import VectorIndexRetriever\n",
    "from llama_index.core.query_engine import RetrieverQueryEngine\n",
    "from llama_index.embeddings.openai import OpenAIEmbedding\n",
    "from llama_index.llms.openai import OpenAI\n",
    "from llama_index.vector_stores.mongodb import MongoDBAtlasVectorSearch\n",
    "from llama_index.postprocessor.cohere_rerank import CohereRerank"
   ]
  },
  {
   "cell_type": "code",
   "execution_count": 3,
   "metadata": {},
   "outputs": [],
   "source": [
    "load_dotenv()\n",
    "FIRECRAWL_API = os.environ.get('FIRECRAWL_API')\n",
    "ATLAS_CONNECTION_STRING = os.environ.get('ATLAS_URI')\n",
    "COHERE_API_KEY = os.environ.get(\"COHERE_API_KEY\")\n",
    "os.environ[\"OPENAI_API_KEY\"] = os.environ.get(\"OPENAI_KEY\")"
   ]
  },
  {
   "cell_type": "code",
   "execution_count": null,
   "metadata": {},
   "outputs": [],
   "source": [
    "filename_fn = lambda filename: {\"file_name\": filename}\n",
    "# automatically sets the metadata of each document according to filename_fn\n",
    "documents = SimpleDirectoryReader(\n",
    "    input_dir=\"data/smart_solutions\", file_metadata=filename_fn\n",
    ").load_data()"
   ]
  },
  {
   "cell_type": "markdown",
   "metadata": {},
   "source": [
    "## Create Vector Embeddings"
   ]
  },
  {
   "cell_type": "code",
   "execution_count": null,
   "metadata": {},
   "outputs": [],
   "source": [
    "\"\"\"\n",
    "base = top_k 5\n",
    "v2 = 512 chunk\n",
    "v3 = 100 chunk *\n",
    "v4 = 100 chunk, 50 overlap **\n",
    "v5 = 100 chunk, 100 overlap, top_k=5 [higher results, lower groudedness, 0.39, 0.64, 0.8]\n",
    "v6 = v5 + top_k 20\n",
    "v7 = v5 + top_k 10\n",
    "v7 = v5 + refine\n",
    "v8 = 100 chunk, 100 overlap, cohere rerank, top_n=3, top_k = 20\n",
    "v9 = top_n=3, cohere, top_k = 20\n",
    "v10 = top_n=3, cohere, top_k = 5\n",
    "\"\"\""
   ]
  },
  {
   "cell_type": "code",
   "execution_count": 77,
   "metadata": {},
   "outputs": [],
   "source": [
    "\n",
    "# Settings.llm = OpenAI(model=\"gpt-4-turbo\")\n",
    "Settings.embed_model = OpenAIEmbedding(model=\"text-embedding-ada-002\")\n",
    "Settings.chunk_size = 100\n",
    "Settings.chunk_overlap = 100\n",
    "top_k = 5\n",
    "top_n = 3\n",
    "\n",
    "db_name = \"smart_solutions_db\"\n",
    "collection_name = \"policies[100_chunk, 100 overlap]\" \n",
    "app_name = \"SmartSolutions_App_v10\""
   ]
  },
  {
   "cell_type": "code",
   "execution_count": null,
   "metadata": {},
   "outputs": [],
   "source": [
    "# Connect to your Atlas cluster\n",
    "mongodb_client = pymongo.MongoClient(ATLAS_CONNECTION_STRING)\n",
    "\n",
    "# Instantiate the vector store\n",
    "atlas_vector_search = MongoDBAtlasVectorSearch(\n",
    "    mongodb_client,\n",
    "    db_name = db_name,\n",
    "    collection_name = collection_name,\n",
    "    index_name = \"vector_index\"\n",
    ")\n",
    " \n",
    "vector_store_context = StorageContext.from_defaults(vector_store=atlas_vector_search)"
   ]
  },
  {
   "cell_type": "code",
   "execution_count": null,
   "metadata": {},
   "outputs": [],
   "source": [
    "vector_store_index = VectorStoreIndex.from_documents(\n",
    "   documents, storage_context=vector_store_context, show_progress=True\n",
    ")"
   ]
  },
  {
   "cell_type": "code",
   "execution_count": null,
   "metadata": {},
   "outputs": [],
   "source": [
    "# Instantiate Atlas Vector Search as a retriever\n",
    "vector_store_retriever = VectorIndexRetriever(index=vector_store_index, similarity_top_k=top_k)\n",
    "# Pass the retriever into the query engine\n",
    "query_engine = RetrieverQueryEngine(retriever=vector_store_retriever)"
   ]
  },
  {
   "cell_type": "markdown",
   "metadata": {},
   "source": [
    "## Load Embeddings"
   ]
  },
  {
   "cell_type": "code",
   "execution_count": null,
   "metadata": {},
   "outputs": [],
   "source": [
    "# # Settings.llm = OpenAI(model=\"gpt-4-turbo\")\n",
    "\n",
    "# # Connect to your Atlas cluster\n",
    "# mongodb_client = pymongo.MongoClient(ATLAS_CONNECTION_STRING)\n",
    "\n",
    "# # Instantiate the vector store\n",
    "# atlas_vector_search = MongoDBAtlasVectorSearch(\n",
    "#     mongodb_client,\n",
    "#     db_name = db_name,\n",
    "#     collection_name = collection_name,\n",
    "#     index_name = \"vector_index\"\n",
    "# )\n",
    "\n",
    "# # Create VectorStoreIndex from the vector store\n",
    "# vector_store_index = VectorStoreIndex.from_vector_store(atlas_vector_search)\n",
    "\n",
    "# # Instantiate Atlas Vector Search as a retriever\n",
    "# vector_store_retriever = VectorIndexRetriever(index=vector_store_index, similarity_top_k=top_k)\n",
    "# # Pass the retriever into the query engine\n",
    "# query_engine = RetrieverQueryEngine(retriever=vector_store_retriever)"
   ]
  },
  {
   "cell_type": "code",
   "execution_count": 78,
   "metadata": {},
   "outputs": [],
   "source": [
    "# Settings.llm = OpenAI(model=\"gpt-4-turbo\")\n",
    "\n",
    "# Connect to your Atlas cluster\n",
    "mongodb_client = pymongo.MongoClient(ATLAS_CONNECTION_STRING)\n",
    "\n",
    "# Instantiate the vector store\n",
    "atlas_vector_search = MongoDBAtlasVectorSearch(\n",
    "    mongodb_client,\n",
    "    db_name = db_name,\n",
    "    collection_name = collection_name,\n",
    "    index_name = \"vector_index\"\n",
    ")\n",
    "\n",
    "# Create VectorStoreIndex from the vector store\n",
    "vector_store_index = VectorStoreIndex.from_vector_store(atlas_vector_search)\n",
    "\n",
    "\n",
    "cohere_rerank = CohereRerank(api_key=COHERE_API_KEY, top_n=top_n)\n",
    "# Create a query engine with a default retriever\n",
    "query_engine = vector_store_index.as_query_engine(\n",
    "        similarity_top_k=top_k, node_postprocessors=[cohere_rerank]\n",
    "    )"
   ]
  },
  {
   "cell_type": "code",
   "execution_count": 79,
   "metadata": {},
   "outputs": [],
   "source": [
    "# from IPython.display import Markdown, display\n",
    "# # define prompt viewing function\n",
    "# def display_prompt_dict(prompts_dict):\n",
    "#     for k, p in prompts_dict.items():\n",
    "#         text_md = f\"**Prompt Key**: {k}<br>\" f\"**Text:** <br>\"\n",
    "#         display(Markdown(text_md))\n",
    "#         print(p.get_template())\n",
    "#         display(Markdown(\"<br><br>\"))\n",
    "\n",
    "# prompts_dict = query_engine.get_prompts()\n",
    "# display_prompt_dict(prompts_dict)"
   ]
  },
  {
   "cell_type": "code",
   "execution_count": 80,
   "metadata": {},
   "outputs": [],
   "source": [
    "# from llama_index.core import PromptTemplate\n",
    "\n",
    "# # Define your custom prompt\n",
    "# custom_prompt = (\n",
    "#     \"Context information is below.\\n\"\n",
    "#     \"---------------------\\n\"\n",
    "#     \"{context_str}\\n\"\n",
    "#     \"---------------------\\n\"\n",
    "#     \"Given the context information and not prior knowledge, \"\n",
    "#     \"answer the query.\\n\"\n",
    "#     \"Query: {query_str}\\n\"\n",
    "#     \"As an expert in customer service relations, it's important to recognize and address the tone of the received query. If the customer sounds angry or dissatisfied, start by acknowledging their feelings and apologize for any inconvenience they may have experienced. Then, proceed to curate the response in a way that soothes and resolves their concerns.\"\n",
    "# )\n",
    "\n",
    "# # Create a PromptTemplate from your custom prompt\n",
    "# custom_prompt_template = PromptTemplate(custom_prompt)\n",
    "\n",
    "# # Update the query engine with the new prompt\n",
    "# query_engine.update_prompts({\"text_qa_template\": custom_prompt_template})"
   ]
  },
  {
   "cell_type": "code",
   "execution_count": 81,
   "metadata": {},
   "outputs": [],
   "source": [
    "# query_engine.query(\"I hate the service! How do i get my money back?\")"
   ]
  },
  {
   "cell_type": "code",
   "execution_count": 82,
   "metadata": {},
   "outputs": [],
   "source": [
    "from trulens_eval import Tru\n",
    "tru = Tru()"
   ]
  },
  {
   "cell_type": "code",
   "execution_count": 83,
   "metadata": {},
   "outputs": [
    {
     "name": "stdout",
     "output_type": "stream",
     "text": [
      "✅ In groundedness_measure_with_cot_reasons, input source will be set to __record__.app.query.rets.source_nodes[:].node.text.collect() .\n",
      "✅ In groundedness_measure_with_cot_reasons, input statement will be set to __record__.main_output or `Select.RecordOutput` .\n",
      "✅ In relevance, input prompt will be set to __record__.main_input or `Select.RecordInput` .\n",
      "✅ In relevance, input response will be set to __record__.main_output or `Select.RecordOutput` .\n",
      "✅ In qs_relevance, input question will be set to __record__.main_input or `Select.RecordInput` .\n",
      "✅ In qs_relevance, input context will be set to __record__.app.query.rets.source_nodes[:].node.text .\n"
     ]
    },
    {
     "name": "stderr",
     "output_type": "stream",
     "text": [
      "[nltk_data] Downloading package punkt to\n",
      "[nltk_data]     C:\\Users\\TurnerZ\\AppData\\Roaming\\nltk_data...\n",
      "[nltk_data]   Package punkt is already up-to-date!\n"
     ]
    }
   ],
   "source": [
    "import numpy as np\n",
    "\n",
    "# Initialize provider class\n",
    "from trulens_eval.feedback.provider.openai import OpenAI\n",
    "openai = OpenAI()\n",
    "\n",
    "# select context to be used in feedback. the location of context is app specific.\n",
    "from trulens_eval.app import App\n",
    "context = App.select_context(query_engine)\n",
    "\n",
    "# imports for feedback\n",
    "from trulens_eval import Feedback\n",
    "\n",
    "# Define a groundedness feedback function\n",
    "from trulens_eval.feedback import Groundedness\n",
    "grounded = Groundedness(groundedness_provider=OpenAI())\n",
    "f_groundedness = (\n",
    "    Feedback(grounded.groundedness_measure_with_cot_reasons)\n",
    "    .on(context.collect()) # collect context chunks into a list\n",
    "    .on_output()\n",
    "    .aggregate(grounded.grounded_statements_aggregator)\n",
    ")\n",
    "\n",
    "# Question/answer relevance between overall question and answer.\n",
    "f_qa_relevance = Feedback(openai.relevance).on_input_output()\n",
    "\n",
    "# Question/statement relevance between question and each context chunk.\n",
    "f_qs_relevance = (\n",
    "    Feedback(openai.qs_relevance)\n",
    "    .on_input()\n",
    "    .on(context)\n",
    "    .aggregate(np.mean)\n",
    ")"
   ]
  },
  {
   "cell_type": "code",
   "execution_count": 84,
   "metadata": {},
   "outputs": [],
   "source": [
    "from trulens_eval import TruLlama\n",
    "tru_query_engine_recorder = TruLlama(query_engine,\n",
    "    app_id=app_name,\n",
    "    feedbacks=[f_groundedness, f_qa_relevance, f_qs_relevance])"
   ]
  },
  {
   "cell_type": "code",
   "execution_count": 85,
   "metadata": {},
   "outputs": [
    {
     "data": {
      "application/vnd.jupyter.widget-view+json": {
       "model_id": "988b3413cf614b78976e3cf777131c74",
       "version_major": 2,
       "version_minor": 0
      },
      "text/plain": [
       "Groundedness per statement in source:   0%|          | 0/2 [00:00<?, ?it/s]"
      ]
     },
     "metadata": {},
     "output_type": "display_data"
    },
    {
     "data": {
      "application/vnd.jupyter.widget-view+json": {
       "model_id": "74d2d9877df143ce8548cf69371ea8a8",
       "version_major": 2,
       "version_minor": 0
      },
      "text/plain": [
       "Groundedness per statement in source:   0%|          | 0/6 [00:00<?, ?it/s]"
      ]
     },
     "metadata": {},
     "output_type": "display_data"
    },
    {
     "data": {
      "application/vnd.jupyter.widget-view+json": {
       "model_id": "2c1402a5a7c24d219dd1d86dac4a22f0",
       "version_major": 2,
       "version_minor": 0
      },
      "text/plain": [
       "Groundedness per statement in source:   0%|          | 0/2 [00:00<?, ?it/s]"
      ]
     },
     "metadata": {},
     "output_type": "display_data"
    },
    {
     "data": {
      "application/vnd.jupyter.widget-view+json": {
       "model_id": "b8280729dba94d8f8f218a9d1f48907d",
       "version_major": 2,
       "version_minor": 0
      },
      "text/plain": [
       "Groundedness per statement in source:   0%|          | 0/2 [00:00<?, ?it/s]"
      ]
     },
     "metadata": {},
     "output_type": "display_data"
    },
    {
     "data": {
      "application/vnd.jupyter.widget-view+json": {
       "model_id": "7d34db724f3a48aabefbf4beea1a65cd",
       "version_major": 2,
       "version_minor": 0
      },
      "text/plain": [
       "Groundedness per statement in source:   0%|          | 0/2 [00:00<?, ?it/s]"
      ]
     },
     "metadata": {},
     "output_type": "display_data"
    },
    {
     "data": {
      "application/vnd.jupyter.widget-view+json": {
       "model_id": "4cafb282435042db8d2c4404c80672d3",
       "version_major": 2,
       "version_minor": 0
      },
      "text/plain": [
       "Groundedness per statement in source:   0%|          | 0/3 [00:00<?, ?it/s]"
      ]
     },
     "metadata": {},
     "output_type": "display_data"
    },
    {
     "data": {
      "application/vnd.jupyter.widget-view+json": {
       "model_id": "0f3913fc289c458fa9703418df3887c4",
       "version_major": 2,
       "version_minor": 0
      },
      "text/plain": [
       "Groundedness per statement in source:   0%|          | 0/5 [00:00<?, ?it/s]"
      ]
     },
     "metadata": {},
     "output_type": "display_data"
    },
    {
     "data": {
      "application/vnd.jupyter.widget-view+json": {
       "model_id": "6d682283c23d49238ba2116225c1bafc",
       "version_major": 2,
       "version_minor": 0
      },
      "text/plain": [
       "Groundedness per statement in source:   0%|          | 0/3 [00:00<?, ?it/s]"
      ]
     },
     "metadata": {},
     "output_type": "display_data"
    },
    {
     "data": {
      "application/vnd.jupyter.widget-view+json": {
       "model_id": "9df06cf3ddb44e008f4d36e9e8b0a080",
       "version_major": 2,
       "version_minor": 0
      },
      "text/plain": [
       "Groundedness per statement in source:   0%|          | 0/2 [00:00<?, ?it/s]"
      ]
     },
     "metadata": {},
     "output_type": "display_data"
    },
    {
     "data": {
      "application/vnd.jupyter.widget-view+json": {
       "model_id": "b6892458ceae43359f282bfa81a8257b",
       "version_major": 2,
       "version_minor": 0
      },
      "text/plain": [
       "Groundedness per statement in source:   0%|          | 0/4 [00:00<?, ?it/s]"
      ]
     },
     "metadata": {},
     "output_type": "display_data"
    },
    {
     "data": {
      "application/vnd.jupyter.widget-view+json": {
       "model_id": "a5d3b5e1603545c992ab68bb0a613ae1",
       "version_major": 2,
       "version_minor": 0
      },
      "text/plain": [
       "Groundedness per statement in source:   0%|          | 0/3 [00:00<?, ?it/s]"
      ]
     },
     "metadata": {},
     "output_type": "display_data"
    },
    {
     "data": {
      "application/vnd.jupyter.widget-view+json": {
       "model_id": "6b50e612620b4c7b8f4cf1d928087695",
       "version_major": 2,
       "version_minor": 0
      },
      "text/plain": [
       "Groundedness per statement in source:   0%|          | 0/3 [00:00<?, ?it/s]"
      ]
     },
     "metadata": {},
     "output_type": "display_data"
    },
    {
     "data": {
      "application/vnd.jupyter.widget-view+json": {
       "model_id": "47a0f15b2b124bec8c0011d822fb524d",
       "version_major": 2,
       "version_minor": 0
      },
      "text/plain": [
       "Groundedness per statement in source:   0%|          | 0/2 [00:00<?, ?it/s]"
      ]
     },
     "metadata": {},
     "output_type": "display_data"
    },
    {
     "data": {
      "application/vnd.jupyter.widget-view+json": {
       "model_id": "71c131577e1f493ea2136e1a35bd3e81",
       "version_major": 2,
       "version_minor": 0
      },
      "text/plain": [
       "Groundedness per statement in source:   0%|          | 0/2 [00:00<?, ?it/s]"
      ]
     },
     "metadata": {},
     "output_type": "display_data"
    },
    {
     "data": {
      "application/vnd.jupyter.widget-view+json": {
       "model_id": "a3b078f71aa44262a38688f7a9e63466",
       "version_major": 2,
       "version_minor": 0
      },
      "text/plain": [
       "Groundedness per statement in source:   0%|          | 0/3 [00:00<?, ?it/s]"
      ]
     },
     "metadata": {},
     "output_type": "display_data"
    },
    {
     "data": {
      "application/vnd.jupyter.widget-view+json": {
       "model_id": "81fc89b8a07b4e2a861bb1d5305d6fba",
       "version_major": 2,
       "version_minor": 0
      },
      "text/plain": [
       "Groundedness per statement in source:   0%|          | 0/4 [00:00<?, ?it/s]"
      ]
     },
     "metadata": {},
     "output_type": "display_data"
    },
    {
     "data": {
      "application/vnd.jupyter.widget-view+json": {
       "model_id": "4a320490c09e4f2fafc34418002b25ad",
       "version_major": 2,
       "version_minor": 0
      },
      "text/plain": [
       "Groundedness per statement in source:   0%|          | 0/8 [00:00<?, ?it/s]"
      ]
     },
     "metadata": {},
     "output_type": "display_data"
    },
    {
     "data": {
      "application/vnd.jupyter.widget-view+json": {
       "model_id": "ebba241cd65d4bd38e7206e203eb49ea",
       "version_major": 2,
       "version_minor": 0
      },
      "text/plain": [
       "Groundedness per statement in source:   0%|          | 0/2 [00:00<?, ?it/s]"
      ]
     },
     "metadata": {},
     "output_type": "display_data"
    },
    {
     "data": {
      "application/vnd.jupyter.widget-view+json": {
       "model_id": "72d73b5293f24eb0853d2c2e050ae6aa",
       "version_major": 2,
       "version_minor": 0
      },
      "text/plain": [
       "Groundedness per statement in source:   0%|          | 0/3 [00:00<?, ?it/s]"
      ]
     },
     "metadata": {},
     "output_type": "display_data"
    },
    {
     "data": {
      "application/vnd.jupyter.widget-view+json": {
       "model_id": "615896905d8d49b2afb702d659bf7cee",
       "version_major": 2,
       "version_minor": 0
      },
      "text/plain": [
       "Groundedness per statement in source:   0%|          | 0/2 [00:00<?, ?it/s]"
      ]
     },
     "metadata": {},
     "output_type": "display_data"
    }
   ],
   "source": [
    "queries = [\n",
    "    \"I'm interested in learning more about the services offered by SmartSolutions Virtual Assistant Services. Could you provide me with more information?\",\n",
    "    \"I'm excited to explore the possibility of working with SmartSolutions Virtual Assistant Services! Can you please send me the pricing details and package options for social media management services?\",\n",
    "    \"I need to modify my current service plan ASAP. Your lack of flexibility is causing major inconvenience. Can you please guide me through the process?\",\n",
    "    \"I need assistance with setting up email marketing campaigns for my business. Can you help me get started?\",\n",
    "    \"I'm glad to hear about your virtual assistant services! Are virtual assistants available to assist with data entry tasks? I have a project that requires immediate attention.\",\n",
    "    \"I'm looking for a customized service package to meet my specific business needs. Can I request a custom quote?\",\n",
    "    \"How can I trust you with my sensitive data? Your lack of transparency about security measures is concerning. How do you ensure the security of client data and information?\",\n",
    "    \"I'm experiencing issues with my website and need assistance with maintenance tasks. Can you help troubleshoot?\",\n",
    "    \"I appreciate your prompt assistance! What is the typical turnaround time for completing research tasks? I have an urgent project that needs to be completed.\",\n",
    "    \"I'm excited to enhance my online presence! Can you recommend the best social media platforms for a small business in the fashion industry?\",\n",
    "    \"What qualifications and experience do your virtual assistants have? I want to ensure I'm working with skilled professionals.\",\n",
    "    \"I'm looking forward to streamlining my marketing efforts! I need help integrating my email marketing platform with my CRM system. Can you assist with this?\",\n",
    "    \"I'm eager to get started with your services! What is the process for onboarding new clients and getting started?\",\n",
    "    \"I need assistance with analyzing social media analytics and performance metrics. Can you provide support?\",\n",
    "    \"Your lack of 24/7 support is unacceptable! Is customer support available during weekends or holidays? I may need assistance outside of regular business hours.\",\n",
    "    \"I'm considering optimizing my service plan! What is the process for upgrading/downgrading my current service plan?\",\n",
    "    \"I'm unsure which service package is best for my business. Can you provide guidance on selecting the right one?\",\n",
    "    \"I'm eager to see examples of your work! Do you have any examples of previous work or case studies in the healthcare industry?\",\n",
    "    \"I want to ensure a smooth payment process! What payment methods do you accept, and what are your billing procedures?\",\n",
    "    \"I'm interested in exploring more options! Do you offer any additional services or add-ons beyond the standard packages?\"\n",
    "]\n",
    "\n",
    "with tru_query_engine_recorder as recording:\n",
    "    for test in queries:\n",
    "        query_engine.query(test)"
   ]
  },
  {
   "cell_type": "code",
   "execution_count": 86,
   "metadata": {},
   "outputs": [
    {
     "data": {
      "text/html": [
       "<div>\n",
       "<style scoped>\n",
       "    .dataframe tbody tr th:only-of-type {\n",
       "        vertical-align: middle;\n",
       "    }\n",
       "\n",
       "    .dataframe tbody tr th {\n",
       "        vertical-align: top;\n",
       "    }\n",
       "\n",
       "    .dataframe thead th {\n",
       "        text-align: right;\n",
       "    }\n",
       "</style>\n",
       "<table border=\"1\" class=\"dataframe\">\n",
       "  <thead>\n",
       "    <tr style=\"text-align: right;\">\n",
       "      <th></th>\n",
       "      <th>app_id</th>\n",
       "      <th>app_json</th>\n",
       "      <th>type</th>\n",
       "      <th>record_id</th>\n",
       "      <th>input</th>\n",
       "      <th>output</th>\n",
       "      <th>tags</th>\n",
       "      <th>record_json</th>\n",
       "      <th>cost_json</th>\n",
       "      <th>perf_json</th>\n",
       "      <th>ts</th>\n",
       "      <th>relevance</th>\n",
       "      <th>qs_relevance</th>\n",
       "      <th>groundedness_measure_with_cot_reasons</th>\n",
       "      <th>relevance_calls</th>\n",
       "      <th>qs_relevance_calls</th>\n",
       "      <th>groundedness_measure_with_cot_reasons_calls</th>\n",
       "      <th>latency</th>\n",
       "      <th>total_tokens</th>\n",
       "      <th>total_cost</th>\n",
       "    </tr>\n",
       "  </thead>\n",
       "  <tbody>\n",
       "    <tr>\n",
       "      <th>0</th>\n",
       "      <td>SmartSolutions_App_v10</td>\n",
       "      <td>{\"tru_class_info\": {\"name\": \"TruLlama\", \"modul...</td>\n",
       "      <td>RetrieverQueryEngine(llama_index.core.query_en...</td>\n",
       "      <td>record_hash_73af7d7d289a221e6a4323576ae8c58f</td>\n",
       "      <td>\"I'm interested in learning more about the ser...</td>\n",
       "      <td>\"SmartSolutions Virtual Assistant Services off...</td>\n",
       "      <td>-</td>\n",
       "      <td>{\"record_id\": \"record_hash_73af7d7d289a221e6a4...</td>\n",
       "      <td>{\"n_requests\": 2, \"n_successful_requests\": 2, ...</td>\n",
       "      <td>{\"start_time\": \"2024-05-01T18:16:53.689723\", \"...</td>\n",
       "      <td>2024-05-01T18:17:01.242861</td>\n",
       "      <td>0.8</td>\n",
       "      <td>0.800000</td>\n",
       "      <td>1.000000</td>\n",
       "      <td>[{'args': {'prompt': 'I'm interested in learni...</td>\n",
       "      <td>[{'args': {'question': 'I'm interested in lear...</td>\n",
       "      <td>[{'args': {'source': ['SmartSolutions Virtual ...</td>\n",
       "      <td>7</td>\n",
       "      <td>495</td>\n",
       "      <td>0.00573</td>\n",
       "    </tr>\n",
       "    <tr>\n",
       "      <th>1</th>\n",
       "      <td>SmartSolutions_App_v10</td>\n",
       "      <td>{\"tru_class_info\": {\"name\": \"TruLlama\", \"modul...</td>\n",
       "      <td>RetrieverQueryEngine(llama_index.core.query_en...</td>\n",
       "      <td>record_hash_a10eb655b97e4917a503a60e88bb97d1</td>\n",
       "      <td>\"I'm excited to explore the possibility of wor...</td>\n",
       "      <td>\"SmartSolutions Virtual Assistant Services off...</td>\n",
       "      <td>-</td>\n",
       "      <td>{\"record_id\": \"record_hash_a10eb655b97e4917a50...</td>\n",
       "      <td>{\"n_requests\": 2, \"n_successful_requests\": 2, ...</td>\n",
       "      <td>{\"start_time\": \"2024-05-01T18:17:01.637511\", \"...</td>\n",
       "      <td>2024-05-01T18:17:14.354816</td>\n",
       "      <td>0.8</td>\n",
       "      <td>0.633333</td>\n",
       "      <td>0.366667</td>\n",
       "      <td>[{'args': {'prompt': 'I'm excited to explore t...</td>\n",
       "      <td>[{'args': {'question': 'I'm excited to explore...</td>\n",
       "      <td>[{'args': {'source': ['SmartSolutions Virtual ...</td>\n",
       "      <td>12</td>\n",
       "      <td>548</td>\n",
       "      <td>0.00822</td>\n",
       "    </tr>\n",
       "    <tr>\n",
       "      <th>2</th>\n",
       "      <td>SmartSolutions_App_v10</td>\n",
       "      <td>{\"tru_class_info\": {\"name\": \"TruLlama\", \"modul...</td>\n",
       "      <td>RetrieverQueryEngine(llama_index.core.query_en...</td>\n",
       "      <td>record_hash_c1f8481e23ccbd7fe3322c04b59a1e2b</td>\n",
       "      <td>\"I need to modify my current service plan ASAP...</td>\n",
       "      <td>\"To modify your current service plan, you will...</td>\n",
       "      <td>-</td>\n",
       "      <td>{\"record_id\": \"record_hash_c1f8481e23ccbd7fe33...</td>\n",
       "      <td>{\"n_requests\": 2, \"n_successful_requests\": 2, ...</td>\n",
       "      <td>{\"start_time\": \"2024-05-01T18:17:14.743313\", \"...</td>\n",
       "      <td>2024-05-01T18:17:23.178083</td>\n",
       "      <td>0.8</td>\n",
       "      <td>0.600000</td>\n",
       "      <td>1.000000</td>\n",
       "      <td>[{'args': {'prompt': 'I need to modify my curr...</td>\n",
       "      <td>[{'args': {'question': 'I need to modify my cu...</td>\n",
       "      <td>[{'args': {'source': ['Any modifications or am...</td>\n",
       "      <td>8</td>\n",
       "      <td>519</td>\n",
       "      <td>0.00609</td>\n",
       "    </tr>\n",
       "    <tr>\n",
       "      <th>3</th>\n",
       "      <td>SmartSolutions_App_v10</td>\n",
       "      <td>{\"tru_class_info\": {\"name\": \"TruLlama\", \"modul...</td>\n",
       "      <td>RetrieverQueryEngine(llama_index.core.query_en...</td>\n",
       "      <td>record_hash_c5653fb638cf9319f33824cab0125884</td>\n",
       "      <td>\"I need assistance with setting up email marke...</td>\n",
       "      <td>\"To get started with setting up email marketin...</td>\n",
       "      <td>-</td>\n",
       "      <td>{\"record_id\": \"record_hash_c5653fb638cf9319f33...</td>\n",
       "      <td>{\"n_requests\": 2, \"n_successful_requests\": 2, ...</td>\n",
       "      <td>{\"start_time\": \"2024-05-01T18:17:23.554893\", \"...</td>\n",
       "      <td>2024-05-01T18:17:31.736026</td>\n",
       "      <td>0.8</td>\n",
       "      <td>0.800000</td>\n",
       "      <td>0.500000</td>\n",
       "      <td>[{'args': {'prompt': 'I need assistance with s...</td>\n",
       "      <td>[{'args': {'question': 'I need assistance with...</td>\n",
       "      <td>[{'args': {'source': ['Email Marketing:  \\n• M...</td>\n",
       "      <td>8</td>\n",
       "      <td>561</td>\n",
       "      <td>0.00663</td>\n",
       "    </tr>\n",
       "    <tr>\n",
       "      <th>4</th>\n",
       "      <td>SmartSolutions_App_v10</td>\n",
       "      <td>{\"tru_class_info\": {\"name\": \"TruLlama\", \"modul...</td>\n",
       "      <td>RetrieverQueryEngine(llama_index.core.query_en...</td>\n",
       "      <td>record_hash_06af476289ef52220c2bbee245c535a4</td>\n",
       "      <td>\"I'm glad to hear about your virtual assistant...</td>\n",
       "      <td>\"Yes, our team of experienced virtual assistan...</td>\n",
       "      <td>-</td>\n",
       "      <td>{\"record_id\": \"record_hash_06af476289ef52220c2...</td>\n",
       "      <td>{\"n_requests\": 2, \"n_successful_requests\": 2, ...</td>\n",
       "      <td>{\"start_time\": \"2024-05-01T18:17:32.122682\", \"...</td>\n",
       "      <td>2024-05-01T18:17:39.020051</td>\n",
       "      <td>0.8</td>\n",
       "      <td>0.800000</td>\n",
       "      <td>1.000000</td>\n",
       "      <td>[{'args': {'prompt': 'I'm glad to hear about y...</td>\n",
       "      <td>[{'args': {'question': 'I'm glad to hear about...</td>\n",
       "      <td>[{'args': {'source': ['Virtual Assistant Servi...</td>\n",
       "      <td>6</td>\n",
       "      <td>532</td>\n",
       "      <td>0.00581</td>\n",
       "    </tr>\n",
       "  </tbody>\n",
       "</table>\n",
       "</div>"
      ],
      "text/plain": [
       "                   app_id                                           app_json  \\\n",
       "0  SmartSolutions_App_v10  {\"tru_class_info\": {\"name\": \"TruLlama\", \"modul...   \n",
       "1  SmartSolutions_App_v10  {\"tru_class_info\": {\"name\": \"TruLlama\", \"modul...   \n",
       "2  SmartSolutions_App_v10  {\"tru_class_info\": {\"name\": \"TruLlama\", \"modul...   \n",
       "3  SmartSolutions_App_v10  {\"tru_class_info\": {\"name\": \"TruLlama\", \"modul...   \n",
       "4  SmartSolutions_App_v10  {\"tru_class_info\": {\"name\": \"TruLlama\", \"modul...   \n",
       "\n",
       "                                                type  \\\n",
       "0  RetrieverQueryEngine(llama_index.core.query_en...   \n",
       "1  RetrieverQueryEngine(llama_index.core.query_en...   \n",
       "2  RetrieverQueryEngine(llama_index.core.query_en...   \n",
       "3  RetrieverQueryEngine(llama_index.core.query_en...   \n",
       "4  RetrieverQueryEngine(llama_index.core.query_en...   \n",
       "\n",
       "                                      record_id  \\\n",
       "0  record_hash_73af7d7d289a221e6a4323576ae8c58f   \n",
       "1  record_hash_a10eb655b97e4917a503a60e88bb97d1   \n",
       "2  record_hash_c1f8481e23ccbd7fe3322c04b59a1e2b   \n",
       "3  record_hash_c5653fb638cf9319f33824cab0125884   \n",
       "4  record_hash_06af476289ef52220c2bbee245c535a4   \n",
       "\n",
       "                                               input  \\\n",
       "0  \"I'm interested in learning more about the ser...   \n",
       "1  \"I'm excited to explore the possibility of wor...   \n",
       "2  \"I need to modify my current service plan ASAP...   \n",
       "3  \"I need assistance with setting up email marke...   \n",
       "4  \"I'm glad to hear about your virtual assistant...   \n",
       "\n",
       "                                              output tags  \\\n",
       "0  \"SmartSolutions Virtual Assistant Services off...    -   \n",
       "1  \"SmartSolutions Virtual Assistant Services off...    -   \n",
       "2  \"To modify your current service plan, you will...    -   \n",
       "3  \"To get started with setting up email marketin...    -   \n",
       "4  \"Yes, our team of experienced virtual assistan...    -   \n",
       "\n",
       "                                         record_json  \\\n",
       "0  {\"record_id\": \"record_hash_73af7d7d289a221e6a4...   \n",
       "1  {\"record_id\": \"record_hash_a10eb655b97e4917a50...   \n",
       "2  {\"record_id\": \"record_hash_c1f8481e23ccbd7fe33...   \n",
       "3  {\"record_id\": \"record_hash_c5653fb638cf9319f33...   \n",
       "4  {\"record_id\": \"record_hash_06af476289ef52220c2...   \n",
       "\n",
       "                                           cost_json  \\\n",
       "0  {\"n_requests\": 2, \"n_successful_requests\": 2, ...   \n",
       "1  {\"n_requests\": 2, \"n_successful_requests\": 2, ...   \n",
       "2  {\"n_requests\": 2, \"n_successful_requests\": 2, ...   \n",
       "3  {\"n_requests\": 2, \"n_successful_requests\": 2, ...   \n",
       "4  {\"n_requests\": 2, \"n_successful_requests\": 2, ...   \n",
       "\n",
       "                                           perf_json  \\\n",
       "0  {\"start_time\": \"2024-05-01T18:16:53.689723\", \"...   \n",
       "1  {\"start_time\": \"2024-05-01T18:17:01.637511\", \"...   \n",
       "2  {\"start_time\": \"2024-05-01T18:17:14.743313\", \"...   \n",
       "3  {\"start_time\": \"2024-05-01T18:17:23.554893\", \"...   \n",
       "4  {\"start_time\": \"2024-05-01T18:17:32.122682\", \"...   \n",
       "\n",
       "                           ts  relevance  qs_relevance  \\\n",
       "0  2024-05-01T18:17:01.242861        0.8      0.800000   \n",
       "1  2024-05-01T18:17:14.354816        0.8      0.633333   \n",
       "2  2024-05-01T18:17:23.178083        0.8      0.600000   \n",
       "3  2024-05-01T18:17:31.736026        0.8      0.800000   \n",
       "4  2024-05-01T18:17:39.020051        0.8      0.800000   \n",
       "\n",
       "   groundedness_measure_with_cot_reasons  \\\n",
       "0                               1.000000   \n",
       "1                               0.366667   \n",
       "2                               1.000000   \n",
       "3                               0.500000   \n",
       "4                               1.000000   \n",
       "\n",
       "                                     relevance_calls  \\\n",
       "0  [{'args': {'prompt': 'I'm interested in learni...   \n",
       "1  [{'args': {'prompt': 'I'm excited to explore t...   \n",
       "2  [{'args': {'prompt': 'I need to modify my curr...   \n",
       "3  [{'args': {'prompt': 'I need assistance with s...   \n",
       "4  [{'args': {'prompt': 'I'm glad to hear about y...   \n",
       "\n",
       "                                  qs_relevance_calls  \\\n",
       "0  [{'args': {'question': 'I'm interested in lear...   \n",
       "1  [{'args': {'question': 'I'm excited to explore...   \n",
       "2  [{'args': {'question': 'I need to modify my cu...   \n",
       "3  [{'args': {'question': 'I need assistance with...   \n",
       "4  [{'args': {'question': 'I'm glad to hear about...   \n",
       "\n",
       "         groundedness_measure_with_cot_reasons_calls  latency  total_tokens  \\\n",
       "0  [{'args': {'source': ['SmartSolutions Virtual ...        7           495   \n",
       "1  [{'args': {'source': ['SmartSolutions Virtual ...       12           548   \n",
       "2  [{'args': {'source': ['Any modifications or am...        8           519   \n",
       "3  [{'args': {'source': ['Email Marketing:  \\n• M...        8           561   \n",
       "4  [{'args': {'source': ['Virtual Assistant Servi...        6           532   \n",
       "\n",
       "   total_cost  \n",
       "0     0.00573  \n",
       "1     0.00822  \n",
       "2     0.00609  \n",
       "3     0.00663  \n",
       "4     0.00581  "
      ]
     },
     "execution_count": 86,
     "metadata": {},
     "output_type": "execute_result"
    }
   ],
   "source": [
    "records, feedback = tru.get_records_and_feedback(app_ids=[app_name])\n",
    "records.head()"
   ]
  },
  {
   "cell_type": "code",
   "execution_count": 87,
   "metadata": {},
   "outputs": [
    {
     "data": {
      "text/html": [
       "<div>\n",
       "<style scoped>\n",
       "    .dataframe tbody tr th:only-of-type {\n",
       "        vertical-align: middle;\n",
       "    }\n",
       "\n",
       "    .dataframe tbody tr th {\n",
       "        vertical-align: top;\n",
       "    }\n",
       "\n",
       "    .dataframe thead th {\n",
       "        text-align: right;\n",
       "    }\n",
       "</style>\n",
       "<table border=\"1\" class=\"dataframe\">\n",
       "  <thead>\n",
       "    <tr style=\"text-align: right;\">\n",
       "      <th></th>\n",
       "      <th>groundedness_measure_with_cot_reasons</th>\n",
       "      <th>relevance</th>\n",
       "      <th>qs_relevance</th>\n",
       "      <th>latency</th>\n",
       "      <th>total_cost</th>\n",
       "    </tr>\n",
       "    <tr>\n",
       "      <th>app_id</th>\n",
       "      <th></th>\n",
       "      <th></th>\n",
       "      <th></th>\n",
       "      <th></th>\n",
       "      <th></th>\n",
       "    </tr>\n",
       "  </thead>\n",
       "  <tbody>\n",
       "    <tr>\n",
       "      <th>SmartSolutions_App_v10</th>\n",
       "      <td>0.52037</td>\n",
       "      <td>0.789474</td>\n",
       "      <td>0.645614</td>\n",
       "      <td>9.65</td>\n",
       "      <td>0.006893</td>\n",
       "    </tr>\n",
       "  </tbody>\n",
       "</table>\n",
       "</div>"
      ],
      "text/plain": [
       "                        groundedness_measure_with_cot_reasons  relevance  \\\n",
       "app_id                                                                     \n",
       "SmartSolutions_App_v10                                0.52037   0.789474   \n",
       "\n",
       "                        qs_relevance  latency  total_cost  \n",
       "app_id                                                     \n",
       "SmartSolutions_App_v10      0.645614     9.65    0.006893  "
      ]
     },
     "execution_count": 87,
     "metadata": {},
     "output_type": "execute_result"
    }
   ],
   "source": [
    "tru.get_leaderboard(app_ids=[app_name])"
   ]
  },
  {
   "cell_type": "code",
   "execution_count": 88,
   "metadata": {},
   "outputs": [],
   "source": [
    "# tru.run_dashboard()"
   ]
  }
 ],
 "metadata": {
  "kernelspec": {
   "display_name": ".venv",
   "language": "python",
   "name": "python3"
  },
  "language_info": {
   "codemirror_mode": {
    "name": "ipython",
    "version": 3
   },
   "file_extension": ".py",
   "mimetype": "text/x-python",
   "name": "python",
   "nbconvert_exporter": "python",
   "pygments_lexer": "ipython3",
   "version": "3.11.3"
  }
 },
 "nbformat": 4,
 "nbformat_minor": 2
}
