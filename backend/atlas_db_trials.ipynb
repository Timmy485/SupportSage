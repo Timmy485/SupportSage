{
 "cells": [
  {
   "cell_type": "code",
   "execution_count": null,
   "metadata": {},
   "outputs": [],
   "source": [
    "import pymongo\n",
    "import sys\n",
    "import os\n",
    "from dotenv import load_dotenv\n",
    "load_dotenv()"
   ]
  },
  {
   "cell_type": "code",
   "execution_count": null,
   "metadata": {},
   "outputs": [],
   "source": [
    "uri = os.environ.get(\"ATLAS_URI\")"
   ]
  },
  {
   "cell_type": "code",
   "execution_count": null,
   "metadata": {},
   "outputs": [],
   "source": [
    "try:\n",
    "  client = pymongo.MongoClient(uri)\n",
    "\n",
    "# return a friendly error if a URI error is thrown \n",
    "except pymongo.errors.ConfigurationError:\n",
    "  print(\"An Invalid URI host error was received. Is your Atlas host name correct in your connection string?\")\n",
    "  sys.exit(1)"
   ]
  },
  {
   "cell_type": "code",
   "execution_count": null,
   "metadata": {},
   "outputs": [],
   "source": [
    "# use a database named \"myDatabase\"\n",
    "db = client.myDatabase\n",
    "\n",
    "# use a collection named \"recipes\"\n",
    "my_collection = db[\"recipes\"]\n",
    "\n",
    "recipe_documents = [{ \"name\": \"elotes\", \"ingredients\": [\"corn\", \"mayonnaise\", \"cotija cheese\", \"sour cream\", \"lime\"], \"prep_time\": 35 },\n",
    "                    { \"name\": \"loco moco\", \"ingredients\": [\"ground beef\", \"butter\", \"onion\", \"egg\", \"bread bun\", \"mushrooms\"], \"prep_time\": 54 },\n",
    "                    { \"name\": \"patatas bravas\", \"ingredients\": [\"potato\", \"tomato\", \"olive oil\", \"onion\", \"garlic\", \"paprika\"], \"prep_time\": 80 },\n",
    "                    { \"name\": \"fried rice\", \"ingredients\": [\"rice\", \"soy sauce\", \"egg\", \"onion\", \"pea\", \"carrot\", \"sesame oil\"], \"prep_time\": 40 }]\n",
    "\n",
    "# drop the collection in case it already exists\n",
    "try:\n",
    "  my_collection.drop()  \n",
    "\n",
    "# return a friendly error if an authentication error is thrown\n",
    "except pymongo.errors.OperationFailure:\n",
    "  print(\"An authentication error was received. Are your username and password correct in your connection string?\")\n",
    "  sys.exit(1)"
   ]
  },
  {
   "cell_type": "code",
   "execution_count": null,
   "metadata": {},
   "outputs": [],
   "source": [
    "# INSERT DOCUMENTS\n",
    "#\n",
    "# You can insert individual documents using collection.insert_one().\n",
    "# In this example, we're going to create four documents and then \n",
    "# insert them all with insert_many().\n",
    "\n",
    "try: \n",
    " result = my_collection.insert_many(recipe_documents)\n",
    "\n",
    "# return a friendly error if the operation fails\n",
    "except pymongo.errors.OperationFailure:\n",
    "  print(\"An authentication error was received. Are you sure your database user is authorized to perform write operations?\")\n",
    "  sys.exit(1)\n",
    "else:\n",
    "  inserted_count = len(result.inserted_ids)\n",
    "  print(\"I inserted %x documents.\" %(inserted_count))\n",
    "\n",
    "  print(\"\\n\")\n",
    "\n",
    "if result := my_collection.find():\n",
    "  for doc in result:\n",
    "    my_recipe = doc['name']\n",
    "    my_ingredient_count = len(doc['ingredients'])\n",
    "    my_prep_time = doc['prep_time']\n",
    "    print(\"%s has %x ingredients and takes %x minutes to make.\" %(my_recipe, my_ingredient_count, my_prep_time))\n",
    "\n",
    "else:\n",
    "  print(\"No documents found.\")\n",
    "\n",
    "print(\"\\n\")"
   ]
  },
  {
   "cell_type": "code",
   "execution_count": null,
   "metadata": {},
   "outputs": [],
   "source": [
    "# We can also find a single document. Let's find a document\n",
    "# that has the string \"potato\" in the ingredients list.\n",
    "my_doc = my_collection.find_one({\"ingredients\": \"potato\"})\n",
    "\n",
    "if my_doc is not None:\n",
    "  print(\"A recipe which uses potato:\")\n",
    "  print(my_doc)\n",
    "else:\n",
    "  print(\"I didn't find any recipes that contain 'potato' as an ingredient.\")\n",
    "print(\"\\n\")"
   ]
  },
  {
   "cell_type": "code",
   "execution_count": null,
   "metadata": {},
   "outputs": [],
   "source": [
    "# UPDATE A DOCUMENT\n",
    "#\n",
    "# You can update a single document or multiple documents in a single call.\n",
    "# \n",
    "# Here we update the prep_time value on the document we just found.\n",
    "#\n",
    "# Note the 'new=True' option: if omitted, find_one_and_update returns the\n",
    "# original document instead of the updated one.\n",
    "\n",
    "my_doc = my_collection.find_one_and_update({\"ingredients\": \"potato\"}, {\"$set\": { \"prep_time\": 72 }}, new=True)\n",
    "if my_doc is not None:\n",
    "  print(\"Here's the updated recipe:\")\n",
    "  print(my_doc)\n",
    "else:\n",
    "  print(\"I didn't find any recipes that contain 'potato' as an ingredient.\")\n",
    "print(\"\\n\")"
   ]
  },
  {
   "cell_type": "code",
   "execution_count": null,
   "metadata": {},
   "outputs": [],
   "source": [
    "# DELETE DOCUMENTS\n",
    "#\n",
    "# As with other CRUD methods, you can delete a single document \n",
    "# or all documents that match a specified filter. To delete all \n",
    "# of the documents in a collection, pass an empty filter to \n",
    "# the delete_many() method. In this example, we'll delete two of \n",
    "# the recipes.\n",
    "#\n",
    "# The query filter passed to delete_many uses $or to look for documents\n",
    "# in which the \"name\" field is either \"elotes\" or \"fried rice\".\n",
    "\n",
    "my_result = my_collection.delete_many({ \"$or\": [{ \"name\": \"elotes\" }, { \"name\": \"fried rice\" }]})\n",
    "print(\"I deleted %x records.\" %(my_result.deleted_count))\n",
    "print(\"\\n\")"
   ]
  }
 ],
 "metadata": {
  "kernelspec": {
   "display_name": ".venv",
   "language": "python",
   "name": "python3"
  },
  "language_info": {
   "name": "python",
   "version": "3.11.3"
  }
 },
 "nbformat": 4,
 "nbformat_minor": 2
}
