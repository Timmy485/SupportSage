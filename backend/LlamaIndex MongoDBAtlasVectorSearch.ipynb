{
 "cells": [
  {
   "cell_type": "code",
   "execution_count": 1,
   "metadata": {},
   "outputs": [],
   "source": [
    "# !pip install llama-index llama-index-vector-stores-mongodb llama-index-embeddings-openai pymongo"
   ]
  },
  {
   "cell_type": "code",
   "execution_count": 2,
   "metadata": {},
   "outputs": [],
   "source": [
    "import getpass, os, pymongo, pprint\n",
    "from llama_index.core import SimpleDirectoryReader, VectorStoreIndex, StorageContext\n",
    "from llama_index.core.settings import Settings\n",
    "from llama_index.core.retrievers import VectorIndexRetriever\n",
    "from llama_index.core.vector_stores import MetadataFilter, MetadataFilters, ExactMatchFilter, FilterOperator\n",
    "from llama_index.core.query_engine import RetrieverQueryEngine\n",
    "from llama_index.embeddings.openai import OpenAIEmbedding\n",
    "from llama_index.llms.openai import OpenAI\n",
    "from llama_index.vector_stores.mongodb import MongoDBAtlasVectorSearch"
   ]
  },
  {
   "cell_type": "code",
   "execution_count": 3,
   "metadata": {},
   "outputs": [],
   "source": [
    "from dotenv import load_dotenv\n",
    "import os\n",
    "load_dotenv()\n",
    "os.environ[\"OPENAI_API_KEY\"] = os.environ.get(\"OPENAI_KEY\")\n",
    "ATLAS_CONNECTION_STRING = os.environ.get(\"ATLAS_URI\")"
   ]
  },
  {
   "cell_type": "code",
   "execution_count": 4,
   "metadata": {},
   "outputs": [],
   "source": [
    "Settings.llm = OpenAI()\n",
    "Settings.embed_model = OpenAIEmbedding(model=\"text-embedding-ada-002\")\n",
    "Settings.chunk_size = 100\n",
    "Settings.chunk_overlap = 10"
   ]
  },
  {
   "cell_type": "code",
   "execution_count": 5,
   "metadata": {},
   "outputs": [],
   "source": [
    "# import requests\n",
    "# import os\n",
    "\n",
    "# # Define the URL and the file name\n",
    "# url = 'https://query.prod.cms.rt.microsoft.com/cms/api/am/binary/RE4HkJP'\n",
    "# file_name = 'data/atlas_best_practices.pdf'\n",
    "\n",
    "# # Create the 'data' directory if it doesn't exist\n",
    "# os.makedirs(os.path.dirname(file_name), exist_ok=True)\n",
    "\n",
    "# # Download the file\n",
    "# response = requests.get(url)\n",
    "# if response.status_code == 200:\n",
    "#     with open(file_name, 'wb') as f:\n",
    "#         f.write(response.content)\n",
    "#     print(\"File downloaded successfully.\")\n",
    "# else:\n",
    "#     print(\"Failed to download file. Status code:\", response.status_code)"
   ]
  },
  {
   "cell_type": "code",
   "execution_count": 6,
   "metadata": {},
   "outputs": [
    {
     "data": {
      "text/plain": [
       "Document(id_='19ee74e1-cb21-44aa-aa47-ff7a8385e74c', embedding=None, metadata={'page_label': '1', 'file_name': 'atlas_best_practices.pdf', 'file_path': 'data\\\\atlas_best_practices.pdf', 'file_type': 'application/pdf', 'file_size': 512653, 'creation_date': '2024-04-26', 'last_modified_date': '2024-04-26'}, excluded_embed_metadata_keys=['file_name', 'file_type', 'file_size', 'creation_date', 'last_modified_date', 'last_accessed_date'], excluded_llm_metadata_keys=['file_name', 'file_type', 'file_size', 'creation_date', 'last_modified_date', 'last_accessed_date'], relationships={}, text='Mong oDB Atlas Best P racticesJanuary 20 19A MongoD B White P aper\\n', start_char_idx=None, end_char_idx=None, text_template='{metadata_str}\\n\\n{content}', metadata_template='{key}: {value}', metadata_seperator='\\n')"
      ]
     },
     "execution_count": 6,
     "metadata": {},
     "output_type": "execute_result"
    }
   ],
   "source": [
    "# Load the sample data\n",
    "sample_data = SimpleDirectoryReader(input_files=[\"./data/atlas_best_practices.pdf\"]).load_data()\n",
    "\n",
    "# Print the first document\n",
    "sample_data[0]"
   ]
  },
  {
   "cell_type": "code",
   "execution_count": 7,
   "metadata": {},
   "outputs": [],
   "source": [
    "# Connect to your Atlas cluster\n",
    "mongodb_client = pymongo.MongoClient(ATLAS_CONNECTION_STRING)\n",
    "\n",
    "# Instantiate the vector store\n",
    "atlas_vector_search = MongoDBAtlasVectorSearch(\n",
    "    mongodb_client,\n",
    "    db_name = \"llamaindex_test_db\",\n",
    "    collection_name = \"test\",\n",
    "    index_name = \"vector_index\"\n",
    ")\n",
    "vector_store_context = StorageContext.from_defaults(vector_store=atlas_vector_search)"
   ]
  },
  {
   "cell_type": "code",
   "execution_count": 8,
   "metadata": {},
   "outputs": [
    {
     "name": "stderr",
     "output_type": "stream",
     "text": [
      "c:\\Users\\TurnerZ\\Documents\\GitHub\\SupportSage\\.venv\\Lib\\site-packages\\tqdm\\auto.py:21: TqdmWarning: IProgress not found. Please update jupyter and ipywidgets. See https://ipywidgets.readthedocs.io/en/stable/user_install.html\n",
      "  from .autonotebook import tqdm as notebook_tqdm\n",
      "Parsing nodes: 100%|██████████| 21/21 [00:00<00:00, 311.38it/s]\n",
      "Generating embeddings: 100%|██████████| 259/259 [00:38<00:00,  6.70it/s]\n"
     ]
    }
   ],
   "source": [
    "vector_store_index = VectorStoreIndex.from_documents(\n",
    "   sample_data, storage_context=vector_store_context, show_progress=True\n",
    ")"
   ]
  },
  {
   "cell_type": "code",
   "execution_count": null,
   "metadata": {},
   "outputs": [],
   "source": [
    "#search index\n",
    "# {\n",
    "#   \"mappings\": {\n",
    "#     \"dynamic\": true,\n",
    "#     \"fields\": {\n",
    "#       \"embedding\": {\n",
    "#         \"dimensions\": 1536,\n",
    "#         \"similarity\": \"cosine\",\n",
    "#         \"type\": \"knnVector\"\n",
    "#       }\n",
    "#     }\n",
    "#   }\n",
    "# }"
   ]
  },
  {
   "cell_type": "code",
   "execution_count": 9,
   "metadata": {},
   "outputs": [],
   "source": [
    "# Instantiate Atlas Vector Search as a retriever\n",
    "vector_store_retriever = VectorIndexRetriever(index=vector_store_index, similarity_top_k=5)\n",
    "# Pass the retriever into the query engine\n",
    "query_engine = RetrieverQueryEngine(retriever=vector_store_retriever)\n",
    "# Prompt the LLM\n",
    "response = query_engine.query('How can I secure my MongoDB Atlas cluster?')"
   ]
  },
  {
   "cell_type": "code",
   "execution_count": 10,
   "metadata": {},
   "outputs": [
    {
     "name": "stdout",
     "output_type": "stream",
     "text": [
      "You can secure your MongoDB Atlas cluster by utilizing security features such as authentication, IP address whitelisting, encryption of data in motion over the network and at rest in persistent storage, and optionally configuring an additional layer of encryption on data at rest using the MongoDB Encrypted Storage Engine with an Atlas-compatible key management service like AWS Key Management Service or Azure Key Vault. Additionally, MongoDB Atlas provides built-in replication for high availability, backups for point-in-time recovery, fine-grained monitoring for scaling, and the ability to set up global clusters across different cloud platforms with ease through the MongoDB Atlas UI.\n",
      "\n",
      "Source documents: \n",
      "[NodeWithScore(node=TextNode(id_='79700022-3e99-4391-8e16-321a1b31e243', embedding=None, metadata={'page_label': '3', 'file_name': 'atlas_best_practices.pdf', 'file_path': 'data\\\\atlas_best_practices.pdf', 'file_type': 'application/pdf', 'file_size': 512653, 'creation_date': '2024-04-26', 'last_modified_date': '2024-04-26'}, excluded_embed_metadata_keys=['file_name', 'file_type', 'file_size', 'creation_date', 'last_modified_date', 'last_accessed_date'], excluded_llm_metadata_keys=['file_name', 'file_type', 'file_size', 'creation_date', 'last_modified_date', 'last_accessed_date'], relationships={<NodeRelationship.SOURCE: '1'>: RelatedNodeInfo(node_id='4ab118da-c30c-4003-9ebe-e5d2310671a7', node_type=<ObjectType.DOCUMENT: '4'>, metadata={'page_label': '3', 'file_name': 'atlas_best_practices.pdf', 'file_path': 'data\\\\atlas_best_practices.pdf', 'file_type': 'application/pdf', 'file_size': 512653, 'creation_date': '2024-04-26', 'last_modified_date': '2024-04-26'}, hash='b54a3b75b93ee4fc8fdbfcd4b033bfac56c0dee100228815a6874c7993cb2614'), <NodeRelationship.PREVIOUS: '2'>: RelatedNodeInfo(node_id='50f433bd-e4ba-4a9a-b6f8-6b18b0fa0e34', node_type=<ObjectType.TEXT: '1'>, metadata={'page_label': '3', 'file_name': 'atlas_best_practices.pdf', 'file_path': 'data\\\\atlas_best_practices.pdf', 'file_type': 'application/pdf', 'file_size': 512653, 'creation_date': '2024-04-26', 'last_modified_date': '2024-04-26'}, hash='8f076b2281e92cacaf19f7b2f120f1f330fc2fc068aaac943ab9e1add8bee217'), <NodeRelationship.NEXT: '3'>: RelatedNodeInfo(node_id='6f756d67-1cd1-4ef3-ada7-78bd1091f1e1', node_type=<ObjectType.TEXT: '1'>, metadata={}, hash='ce37b9f7382f86f97316d5dd346f645175e4a392afabb11d6a13c2dce81395e5')}, text='MongoD B\\nAtlas provides:\\n•Security f eatures to protect access to your data\\n•Built in replication for always-on availability , tolerating\\ncomplete data center failure\\n•Backups and point in time recovery to protect against\\ndata corruption\\n•Fine-grained monitoring to let you know when to scale.', start_char_idx=386, end_char_idx=679, text_template='{metadata_str}\\n\\n{content}', metadata_template='{key}: {value}', metadata_seperator='\\n'), score=0.9283173084259033),\n",
      " NodeWithScore(node=TextNode(id_='e518712e-0194-4b79-8878-2675f5544068', embedding=None, metadata={'page_label': '13', 'file_name': 'atlas_best_practices.pdf', 'file_path': 'data\\\\atlas_best_practices.pdf', 'file_type': 'application/pdf', 'file_size': 512653, 'creation_date': '2024-04-26', 'last_modified_date': '2024-04-26'}, excluded_embed_metadata_keys=['file_name', 'file_type', 'file_size', 'creation_date', 'last_modified_date', 'last_accessed_date'], excluded_llm_metadata_keys=['file_name', 'file_type', 'file_size', 'creation_date', 'last_modified_date', 'last_accessed_date'], relationships={<NodeRelationship.SOURCE: '1'>: RelatedNodeInfo(node_id='001de165-8159-4e96-be72-a14efa721cba', node_type=<ObjectType.DOCUMENT: '4'>, metadata={'page_label': '13', 'file_name': 'atlas_best_practices.pdf', 'file_path': 'data\\\\atlas_best_practices.pdf', 'file_type': 'application/pdf', 'file_size': 512653, 'creation_date': '2024-04-26', 'last_modified_date': '2024-04-26'}, hash='8421aef814d5a5e0ccb5d6268343c49c60ba9af3b7c481b7d281b8690742767c'), <NodeRelationship.PREVIOUS: '2'>: RelatedNodeInfo(node_id='9dd071c0-822b-4a9b-bfdd-d5b44013a59c', node_type=<ObjectType.TEXT: '1'>, metadata={'page_label': '13', 'file_name': 'atlas_best_practices.pdf', 'file_path': 'data\\\\atlas_best_practices.pdf', 'file_type': 'application/pdf', 'file_size': 512653, 'creation_date': '2024-04-26', 'last_modified_date': '2024-04-26'}, hash='0677d5351c3a07058756cd0bbbae16deae224f094bd52651c4c0c281b846b285'), <NodeRelationship.NEXT: '3'>: RelatedNodeInfo(node_id='4a4ef637-729f-41af-bb7e-07899ebc4879', node_type=<ObjectType.TEXT: '1'>, metadata={}, hash='86b4419256e9d788383ea6a8cd30d4f37461f9f23e41c1e33ca9cd268dc12884')}, text='You can set up global clusters — available on Amazon W eb\\nServices, Microsoft Azure, and Google Cloud Platform —\\nwith just a f ew clic ks in the MongoD B Atlas U I. MongoD B\\nAtlas takes care of the deployment and management of\\ninfrastructure and database resources required to ensure\\nthat data is written to and read from diff erent regions.', start_char_idx=498, end_char_idx=839, text_template='{metadata_str}\\n\\n{content}', metadata_template='{key}: {value}', metadata_seperator='\\n'), score=0.9282348155975342),\n",
      " NodeWithScore(node=TextNode(id_='b0d606c2-2e84-4b2d-a6cc-97f1c611ebc1', embedding=None, metadata={'page_label': '18', 'file_name': 'atlas_best_practices.pdf', 'file_path': 'data\\\\atlas_best_practices.pdf', 'file_type': 'application/pdf', 'file_size': 512653, 'creation_date': '2024-04-26', 'last_modified_date': '2024-04-26'}, excluded_embed_metadata_keys=['file_name', 'file_type', 'file_size', 'creation_date', 'last_modified_date', 'last_accessed_date'], excluded_llm_metadata_keys=['file_name', 'file_type', 'file_size', 'creation_date', 'last_modified_date', 'last_accessed_date'], relationships={<NodeRelationship.SOURCE: '1'>: RelatedNodeInfo(node_id='6edcd375-e119-45a4-906b-23da79857df7', node_type=<ObjectType.DOCUMENT: '4'>, metadata={'page_label': '18', 'file_name': 'atlas_best_practices.pdf', 'file_path': 'data\\\\atlas_best_practices.pdf', 'file_type': 'application/pdf', 'file_size': 512653, 'creation_date': '2024-04-26', 'last_modified_date': '2024-04-26'}, hash='4571ed9a8edae9a677fd6c1938983a2a5683339ca0dbacbf1f09bcac98ac6030'), <NodeRelationship.PREVIOUS: '2'>: RelatedNodeInfo(node_id='f10349b2-2b2f-4dcd-bb04-d13b1ce48730', node_type=<ObjectType.TEXT: '1'>, metadata={'page_label': '18', 'file_name': 'atlas_best_practices.pdf', 'file_path': 'data\\\\atlas_best_practices.pdf', 'file_type': 'application/pdf', 'file_size': 512653, 'creation_date': '2024-04-26', 'last_modified_date': '2024-04-26'}, hash='43b78007e7dae523299d4eba1a4b5d1dc9d97c6b6847d24703555b9c410967a2'), <NodeRelationship.NEXT: '3'>: RelatedNodeInfo(node_id='6d8a4c24-ca8b-4dee-8db4-edab9ec2f461', node_type=<ObjectType.TEXT: '1'>, metadata={}, hash='5393211ed6e59c3ee8e1b2fc9e2529f403ee7241ee477da7c20242440a203976')}, text='Protect data in motion over the network\\nand at rest in persistent storage\\nTo ensure a secure system right out of the b ox,\\nauthentication and I P Address whitelisting are\\nautomatically enabled.\\nReview the security section of the MongoD B Atlas\\ndocumentation to learn more ab out eac h of the security\\nfeatures discussed below .', start_char_idx=1852, end_char_idx=2179, text_template='{metadata_str}\\n\\n{content}', metadata_template='{key}: {value}', metadata_seperator='\\n'), score=0.9280440807342529),\n",
      " NodeWithScore(node=TextNode(id_='85c7fca1-94c6-4c3d-ae9f-3f4bae6bc01e', embedding=None, metadata={'page_label': '11', 'file_name': 'atlas_best_practices.pdf', 'file_path': 'data\\\\atlas_best_practices.pdf', 'file_type': 'application/pdf', 'file_size': 512653, 'creation_date': '2024-04-26', 'last_modified_date': '2024-04-26'}, excluded_embed_metadata_keys=['file_name', 'file_type', 'file_size', 'creation_date', 'last_modified_date', 'last_accessed_date'], excluded_llm_metadata_keys=['file_name', 'file_type', 'file_size', 'creation_date', 'last_modified_date', 'last_accessed_date'], relationships={<NodeRelationship.SOURCE: '1'>: RelatedNodeInfo(node_id='dd8dc0eb-ac94-42a7-942d-6d293600e894', node_type=<ObjectType.DOCUMENT: '4'>, metadata={'page_label': '11', 'file_name': 'atlas_best_practices.pdf', 'file_path': 'data\\\\atlas_best_practices.pdf', 'file_type': 'application/pdf', 'file_size': 512653, 'creation_date': '2024-04-26', 'last_modified_date': '2024-04-26'}, hash='fd0ae3fb7fdd45a1bb6d849b6b81678bad51044fb31438fb83a3348f2ec0729f'), <NodeRelationship.PREVIOUS: '2'>: RelatedNodeInfo(node_id='f7d30092-85ac-41bc-97d0-c105255f03ee', node_type=<ObjectType.TEXT: '1'>, metadata={'page_label': '11', 'file_name': 'atlas_best_practices.pdf', 'file_path': 'data\\\\atlas_best_practices.pdf', 'file_type': 'application/pdf', 'file_size': 512653, 'creation_date': '2024-04-26', 'last_modified_date': '2024-04-26'}, hash='1b7702914eac4e827d4d75db68250bbb2bc8fde4acefa00ae078ec0d25fdd44b'), <NodeRelationship.NEXT: '3'>: RelatedNodeInfo(node_id='ae34e766-fe33-4f9c-9124-c155cabff2c5', node_type=<ObjectType.TEXT: '1'>, metadata={}, hash='2b982087b4e8a9600ae02c1dc31be7e4ab9b10d27d923654bd3de8e3fd134fae')}, text='Eac h node must be configured\\nwith sufficient storage for the full data set, or for the subset\\nto be stored in a single shard. T he storage speed and size\\ncan be set when pic king the MongoD B Atlas instance\\nduring cluster creation or reconfiguration.\\nData volumes for customers deploying on A WS, Azure, and\\nGCP are always encrypted.', start_char_idx=299, end_char_idx=633, text_template='{metadata_str}\\n\\n{content}', metadata_template='{key}: {value}', metadata_seperator='\\n'), score=0.9239931702613831),\n",
      " NodeWithScore(node=TextNode(id_='80de5d6d-8cc5-476f-961c-7d163c6c5297', embedding=None, metadata={'page_label': '19', 'file_name': 'atlas_best_practices.pdf', 'file_path': 'data\\\\atlas_best_practices.pdf', 'file_type': 'application/pdf', 'file_size': 512653, 'creation_date': '2024-04-26', 'last_modified_date': '2024-04-26'}, excluded_embed_metadata_keys=['file_name', 'file_type', 'file_size', 'creation_date', 'last_modified_date', 'last_accessed_date'], excluded_llm_metadata_keys=['file_name', 'file_type', 'file_size', 'creation_date', 'last_modified_date', 'last_accessed_date'], relationships={<NodeRelationship.SOURCE: '1'>: RelatedNodeInfo(node_id='f3541a4b-cb26-4da1-ad8a-06b5486b2744', node_type=<ObjectType.DOCUMENT: '4'>, metadata={'page_label': '19', 'file_name': 'atlas_best_practices.pdf', 'file_path': 'data\\\\atlas_best_practices.pdf', 'file_type': 'application/pdf', 'file_size': 512653, 'creation_date': '2024-04-26', 'last_modified_date': '2024-04-26'}, hash='1f81b590e25be02e49b5dceb23c619db61b7dcaeb6ed008f4f494e7228b7b9c4'), <NodeRelationship.PREVIOUS: '2'>: RelatedNodeInfo(node_id='588d9f0b-e9fd-4df2-ad21-de7c8ee25132', node_type=<ObjectType.TEXT: '1'>, metadata={'page_label': '19', 'file_name': 'atlas_best_practices.pdf', 'file_path': 'data\\\\atlas_best_practices.pdf', 'file_type': 'application/pdf', 'file_size': 512653, 'creation_date': '2024-04-26', 'last_modified_date': '2024-04-26'}, hash='6f6d4e8e1e89237664548881605182c4534c4125e3890485851ab40c9b7b7582'), <NodeRelationship.NEXT: '3'>: RelatedNodeInfo(node_id='48d9e4b3-a44c-431d-8b5d-08d7a7a7da55', node_type=<ObjectType.TEXT: '1'>, metadata={}, hash='c512b48ce84c6cd160643bed1e5c36a9b4589e011cf1ae97a8d64d3f275c9a6b')}, text='Optionally , Atlas users can configure an additional layer of\\nencryption on their data at rest using the MongoD B\\nEncrypted Storage Engine and their A tlas-compatible key\\nmanagement service. Currently , Atlas integrates with A WS\\nKey Management Service and Azure K ey Vault.', start_char_idx=780, end_char_idx=1054, text_template='{metadata_str}\\n\\n{content}', metadata_template='{key}: {value}', metadata_seperator='\\n'), score=0.9218343496322632)]\n"
     ]
    }
   ],
   "source": [
    "print(response)\n",
    "print(\"\\nSource documents: \")\n",
    "pprint.pprint(response.source_nodes)"
   ]
  }
 ],
 "metadata": {
  "kernelspec": {
   "display_name": ".venv",
   "language": "python",
   "name": "python3"
  },
  "language_info": {
   "codemirror_mode": {
    "name": "ipython",
    "version": 3
   },
   "file_extension": ".py",
   "mimetype": "text/x-python",
   "name": "python",
   "nbconvert_exporter": "python",
   "pygments_lexer": "ipython3",
   "version": "3.11.3"
  }
 },
 "nbformat": 4,
 "nbformat_minor": 2
}
